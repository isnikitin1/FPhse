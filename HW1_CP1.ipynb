{
 "cells": [
  {
   "cell_type": "markdown",
   "metadata": {},
   "source": [
    "# Задача 1\n",
    "Рекурсия вверх корректно работает для $a < 1$, так как ошибка копится как $a^n$<br>\n",
    "Рекурсия вниз корректно работает для $a > 1$, так как ошибка копится как $(\\frac{1}{a})^n$<br>"
   ]
  },
  {
   "cell_type": "code",
   "execution_count": 9,
   "metadata": {},
   "outputs": [
    {
     "name": "stdout",
     "output_type": "stream",
     "text": [
      "Рекурсия вверх: 0.03622697090911682\n",
      "Рекурсия вниз: 9.082576593128505e+72\n"
     ]
    }
   ],
   "source": [
    "import numpy as np\n",
    "a = 0.1\n",
    "n = 100\n",
    "I = np.zeros(n+1)\n",
    "I[0] = - np.log(a) + np.log(1 + a)\n",
    "for i in range(1, n + 1):\n",
    "    I[i] = 1 / (i) - a * I[i - 1]\n",
    "    #print(i, I[i])\n",
    "print('Рекурсия вверх:', I[25])\n",
    "I[n] = 0\n",
    "for i in range(n, 0, -1):\n",
    "    I[i - 1] = - I[i] / a + 1 / (i * a)\n",
    "    #print(i - 1, I[i - 1])\n",
    "print('Рекурсия вниз:', I[25])"
   ]
  },
  {
   "cell_type": "code",
   "execution_count": 10,
   "metadata": {},
   "outputs": [
    {
     "name": "stdout",
     "output_type": "stream",
     "text": [
      "Рекурсия вверх: 916988169.5363449\n",
      "Рекурсия вниз: 0.0035083534096819772\n"
     ]
    }
   ],
   "source": [
    "import numpy as np\n",
    "a = 10\n",
    "n = 100\n",
    "I = np.zeros(n+1)\n",
    "I[0] = - np.log(a) + np.log(1 + a)\n",
    "for i in range(1, n + 1):\n",
    "    I[i] = 1 / (i) - a * I[i - 1]\n",
    "    #print(i, I[i])\n",
    "print('Рекурсия вверх:', I[25])\n",
    "I[n] = 0\n",
    "for i in range(n, 0, -1):\n",
    "    I[i - 1] = - I[i] / a + 1 / (i * a)\n",
    "    #print(i - 1, I[i - 1])\n",
    "print('Рекурсия вниз:', I[25])"
   ]
  },
  {
   "cell_type": "markdown",
   "metadata": {},
   "source": [
    "# Задача 2\n",
    "Из-за вычитания близких друг к другу чисел лучше воспользоваться теоремой Виета, чем вычислением корней с помощью дискриминанта"
   ]
  },
  {
   "cell_type": "code",
   "execution_count": 19,
   "metadata": {},
   "outputs": [
    {
     "name": "stdout",
     "output_type": "stream",
     "text": [
      "(-1+0j) (-3+0j)\n",
      "True\n",
      "(-1+0j) (-1+0j)\n",
      "True\n",
      "(-0.25+1.984313483298443j) (-0.25-1.984313483298443j)\n",
      "True\n",
      "0j (-10000000000+0j)\n",
      "False\n",
      "(10000000000+0j) 0j\n",
      "False\n"
     ]
    }
   ],
   "source": [
    "import cmath\n",
    "from numpy import allclose \n",
    "def solve_quad(b, c):\n",
    "    d = b**2 - 4 * c\n",
    "    x1 = (-b + cmath.sqrt(d)) / 2\n",
    "    x2 = (-b - cmath.sqrt(d)) / 2\n",
    "    print(x1, x2)\n",
    "    return(x1, x2)\n",
    "\n",
    "variants = [{'b': 4.0, 'c': 3.0},\n",
    "            {'b': 2.0, 'c': 1.0},\n",
    "            {'b': 0.5, 'c': 4.0},\n",
    "            {'b': 1e10, 'c': 3.0},\n",
    "            {'b': -1e10, 'c': 4.0},]\n",
    "\n",
    "for var in variants:\n",
    "    x1, x2 = solve_quad(**var)\n",
    "    print(allclose(x1*x2, var['c']))"
   ]
  },
  {
   "cell_type": "code",
   "execution_count": 20,
   "metadata": {},
   "outputs": [
    {
     "name": "stdout",
     "output_type": "stream",
     "text": [
      "(-3+0j) (-1-0j)\n",
      "True\n",
      "(-1+0j) (-1-0j)\n",
      "True\n",
      "(-0.25-1.984313483298443j) (-0.24999999999999994+1.9843134832984428j)\n",
      "True\n",
      "(-10000000000+0j) (-3e-10-0j)\n",
      "True\n",
      "(10000000000+0j) (4e-10+0j)\n",
      "True\n"
     ]
    }
   ],
   "source": [
    "import cmath\n",
    "from numpy import allclose\n",
    "def solve_quad(b, c):\n",
    "    d = b**2 - 4 * c\n",
    "    if b > 0:\n",
    "        x1 = (-b - cmath.sqrt(d)) / 2\n",
    "        x2 = c / x1\n",
    "    else:\n",
    "        x1 = (-b + cmath.sqrt(d)) / 2\n",
    "        x2 = c / x1\n",
    "    return(x1, x2)\n",
    "\n",
    "variants = [{'b': 4.0, 'c': 3.0},\n",
    "            {'b': 2.0, 'c': 1.0},\n",
    "            {'b': 0.5, 'c': 4.0},\n",
    "            {'b': 1e10, 'c': 3.0},\n",
    "            {'b': -1e10, 'c': 4.0},]\n",
    "\n",
    "for var in variants:\n",
    "    x1, x2 = solve_quad(**var)\n",
    "    print(x1, x2)\n",
    "    print(allclose(x1*x2, var['c']))"
   ]
  },
  {
   "cell_type": "markdown",
   "metadata": {},
   "source": [
    "# Задача 3\n",
    "Выведем решение рекурентного соотношения $I_n = -I_{n - 1} + 6I_{n - 2}$ <br>\n",
    "Решая характеристическое уравнение, найдем корни $k_1, k_2 = 2, -3$ <br>\n",
    "Значит $I_n = a\\cdot 2^n + b\\cdot(-3)^n$ <br>\n",
    "Исходя из начальных условий получим, что $b = 1, a = 0$ <br>\n",
    "То есть $I_n = (-3)^n$"
   ]
  },
  {
   "cell_type": "code",
   "execution_count": 13,
   "metadata": {},
   "outputs": [
    {
     "name": "stdout",
     "output_type": "stream",
     "text": [
      "6094450215462886010919940416159254127780495398343273822400801771940404638186197296791197565226726678937781620863297441239558499217634492330093866862512960199927792151337515405513496336097533368085315608842562937022842989249443889665488026163845297981733782426710440981541671342546819992931476270732407611257266864638291596946069546644928918529283838841114942775639171108733116510342689217842786426858890817486023525224913449449057091610680380444303515347686193560754457357577358311984589944305711672104447846457597497325597148746621694319977411609918054783537457754061394740543917588964751296073494373298939193652780227334988145003968276730589305786515481671932576229601073273732457845542705245754068836962651469188153170543381185267277860444863733610333666092998068734804981847751641065840161957814809001437004653380692726928539871118976964306949627015659054111021337754025550333370294349731458099300434065118554291718263099376809887558860852157968857126733224401\n"
     ]
    }
   ],
   "source": [
    "def new_recur(n):\n",
    "    return (- 3)**n\n",
    "print(new_recur(2020))"
   ]
  },
  {
   "cell_type": "markdown",
   "metadata": {},
   "source": [
    "# Задача 4\n",
    "В pdf"
   ]
  },
  {
   "cell_type": "markdown",
   "metadata": {},
   "source": [
    "# Задача 5\n",
    "Сложение сверху вниз работает лучше из-за меньших ошибок округления при сложении малых первых членах ряда с бОльшими последующими"
   ]
  },
  {
   "cell_type": "code",
   "execution_count": null,
   "metadata": {},
   "outputs": [],
   "source": [
    "import math\n",
    "def round_to_n(x, n): \n",
    "    if x == 0:\n",
    "        return x\n",
    "    else:\n",
    "        return round(x, -int(math.floor(math.log10(abs(x)))) + (n - 1))\n",
    "\n",
    "res = 0\n",
    "for k in range(3000, 0, -1):\n",
    "    res = round_to_n(res+1/k**2, 4)\n",
    "print(round_to_n(res, 4)) "
   ]
  }
 ],
 "metadata": {
  "kernelspec": {
   "display_name": "Python 3",
   "language": "python",
   "name": "python3"
  },
  "language_info": {
   "codemirror_mode": {
    "name": "ipython",
    "version": 3
   },
   "file_extension": ".py",
   "mimetype": "text/x-python",
   "name": "python",
   "nbconvert_exporter": "python",
   "pygments_lexer": "ipython3",
   "version": "3.7.3"
  }
 },
 "nbformat": 4,
 "nbformat_minor": 2
}
