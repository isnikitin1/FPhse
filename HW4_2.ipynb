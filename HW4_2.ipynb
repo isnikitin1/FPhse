{
 "cells": [
  {
   "cell_type": "code",
   "execution_count": 6,
   "metadata": {},
   "outputs": [
    {
     "data": {
      "text/plain": [
       "2.386"
      ]
     },
     "execution_count": 6,
     "metadata": {},
     "output_type": "execute_result"
    }
   ],
   "source": [
    "import numpy as np\n",
    "n = 10\n",
    "k = []\n",
    "for i in range(1000):\n",
    "    a = np.random.normal(0, 1, (n, n))\n",
    "    A = a @ a.T\n",
    "    minValueA = np.min(np.linalg.eigvalsh(A))\n",
    "    B = A\n",
    "    nu = 0\n",
    "    while (abs(1 - np.min(np.diag(B))/minValueA) > 0.01):\n",
    "        nu = nu + 1\n",
    "        Q, R = np.linalg.qr(B)\n",
    "        B = R @ Q\n",
    "    k.append(nu)\n",
    "np.mean(k)"
   ]
  },
  {
   "cell_type": "code",
   "execution_count": null,
   "metadata": {},
   "outputs": [],
   "source": []
  }
 ],
 "metadata": {
  "kernelspec": {
   "display_name": "Python 3",
   "language": "python",
   "name": "python3"
  },
  "language_info": {
   "codemirror_mode": {
    "name": "ipython",
    "version": 3
   },
   "file_extension": ".py",
   "mimetype": "text/x-python",
   "name": "python",
   "nbconvert_exporter": "python",
   "pygments_lexer": "ipython3",
   "version": "3.8.3"
  }
 },
 "nbformat": 4,
 "nbformat_minor": 4
}
