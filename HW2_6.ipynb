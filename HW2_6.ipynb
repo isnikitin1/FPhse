{
 "cells": [
  {
   "cell_type": "code",
   "execution_count": 4,
   "metadata": {},
   "outputs": [
    {
     "name": "stdout",
     "output_type": "stream",
     "text": [
      "woodbury  5.3708645000001525\n",
      "linalg.inv  3.176510100000087\n",
      "woodbury_inv  2.343689799999993\n"
     ]
    }
   ],
   "source": [
    "import numpy as np\n",
    "from timeit import default_timer as timer\n",
    "\n",
    "def woodbury(A, U, V, C):\n",
    "    Ai = np.linalg.inv(A)\n",
    "    Wi = np.linalg.pinv(np.linalg.inv(C) + V @ Ai @ U)\n",
    "    return Ai - Ai @ U @ Wi @ V @ Ai\n",
    "\n",
    "def woodbury_inv(Ai, U, V, C):\n",
    "    Wi = np.linalg.pinv(np.linalg.inv(C) + V @ Ai @ U)\n",
    "    return Ai - Ai @ U @ Wi @ V @ Ai\n",
    "\n",
    "p = 5000\n",
    "k = 100\n",
    "A = np.diag(np.random.random(p))\n",
    "V = np.random.random((k, p))\n",
    "U = np.random.random((p, k))\n",
    "C = np.eye(k)\n",
    "t1 = timer()\n",
    "woodbury(A, U, V, C)\n",
    "t2 = timer()\n",
    "print('woodbury ',t2 - t1)\n",
    "t1 = timer()\n",
    "np.linalg.inv(A + U @ C @ V)\n",
    "t2 = timer()\n",
    "print('linalg.inv ',t2 - t1)\n",
    "Ai = np.linalg.inv(A)\n",
    "t1 = timer()\n",
    "woodbury_inv(Ai, U, V, C)\n",
    "t2 = timer()\n",
    "print('woodbury_inv ',t2 - t1)"
   ]
  },
  {
   "cell_type": "markdown",
   "metadata": {},
   "source": [
    "Если A - инвертировання матрица, то алгоритм работает быстрее"
   ]
  },
  {
   "cell_type": "code",
   "execution_count": null,
   "metadata": {},
   "outputs": [],
   "source": []
  }
 ],
 "metadata": {
  "kernelspec": {
   "display_name": "Python 3",
   "language": "python",
   "name": "python3"
  },
  "language_info": {
   "codemirror_mode": {
    "name": "ipython",
    "version": 3
   },
   "file_extension": ".py",
   "mimetype": "text/x-python",
   "name": "python",
   "nbconvert_exporter": "python",
   "pygments_lexer": "ipython3",
   "version": "3.8.3"
  }
 },
 "nbformat": 4,
 "nbformat_minor": 4
}
